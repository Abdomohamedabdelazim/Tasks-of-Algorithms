{
 "cells": [
  {
   "cell_type": "code",
   "execution_count": 2,
   "id": "6385f21f",
   "metadata": {},
   "outputs": [
    {
     "name": "stdout",
     "output_type": "stream",
     "text": [
      "\n",
      "Edge : Weight\n",
      "\n",
      "B -> A (2)\n",
      "C -> A (3)\n",
      "E -> C (1)\n",
      "D -> A (3)\n",
      "F -> C (6)\n",
      "G -> F (9)\n"
     ]
    }
   ],
   "source": [
    "from collections import defaultdict\n",
    "import bisect\n",
    "\n",
    "graph = [\n",
    "    [-1, 2, 3, 3, -1, -1, -1],\n",
    "    [2, -1, 4, -1, 3, -1, -1],\n",
    "    [3, 4, -1, 5, 1, 6, -1],\n",
    "    [3, -1, 5, -1, -1, 7, -1],\n",
    "    [-1, 3, 1, -1, -1, 8, -1],\n",
    "    [-1, -1, 6, 7, 8, -1, 9],\n",
    "    [-1, -1, -1, -1, -1, 9, -1],\n",
    "]\n",
    "print(\"\\nEdge : Weight\\n\")\n",
    "\n",
    "numbers_to_letters = [\"A\", \"B\", \"C\", \"D\", \"E\", \"F\", \"G\"]\n",
    "\n",
    "\n",
    "class PrimsAlgorithm:\n",
    "    def __init__(self, graph):\n",
    "        self.graph = graph # 2D list which represents the Adjacency Matrix of the input graph\n",
    "\n",
    "\n",
    "    def output_edges(self):\n",
    "\n",
    "        num_nodes = len(self.graph[0])\n",
    "        edges = defaultdict(set)\n",
    "\n",
    "        # start with a random node\n",
    "        \n",
    "        available_edges = defaultdict(set)\n",
    "        for index in range(len(self.graph[0])):\n",
    "            if self.graph[0][index] != -1:\n",
    "                available_edges[self.graph[0][index]].add((0, index))\n",
    "\n",
    "        mst = []\n",
    "        visited_nodes = {0}\n",
    "        sorted_available_weights = list(sorted(available_edges.keys()))\n",
    "        while len(visited_nodes) < num_nodes:\n",
    "            for weight_index, edge_weight in enumerate(sorted_available_weights):\n",
    "                shortest_edge_weight = edge_weight\n",
    "                old_node, new_node = None, None\n",
    "                for edge_start, edge_end in available_edges[edge_weight]:\n",
    "                    if edge_start in visited_nodes and edge_end in visited_nodes:\n",
    "                        continue\n",
    "                    if edge_start not in visited_nodes:\n",
    "                        new_node = edge_start\n",
    "                        old_node = edge_end\n",
    "                        break\n",
    "                    elif edge_end not in visited_nodes:\n",
    "                        new_node = edge_end\n",
    "                        old_node = edge_start\n",
    "                        break\n",
    "                if new_node:\n",
    "                    break\n",
    "\n",
    "            available_edges[edge_weight].remove((edge_start, edge_end))\n",
    "            if len(available_edges[edge_weight]) == 0:\n",
    "                sorted_available_weights = sorted_available_weights[:weight_index] + sorted_available_weights[weight_index + 1:]\n",
    "\n",
    "            mst.append((new_node, old_node, shortest_edge_weight))\n",
    "            visited_nodes.add(new_node)\n",
    "            for index in range(len(self.graph[new_node])):\n",
    "                if self.graph[new_node][index] != -1:\n",
    "                    available_edges[self.graph[new_node][index]].add((new_node, index))\n",
    "                    bisect.insort(sorted_available_weights, self.graph[new_node][index])\n",
    "\n",
    "        for start_node, end_node, weight in mst:\n",
    "            print(f\"{numbers_to_letters[start_node]} -> {numbers_to_letters[end_node]} ({weight})\")\n",
    "\n",
    "\n",
    "PrimsAlgorithm(graph).output_edges()"
   ]
  },
  {
   "cell_type": "code",
   "execution_count": null,
   "id": "672684e1",
   "metadata": {},
   "outputs": [],
   "source": []
  }
 ],
 "metadata": {
  "kernelspec": {
   "display_name": "Python 3 (ipykernel)",
   "language": "python",
   "name": "python3"
  },
  "language_info": {
   "codemirror_mode": {
    "name": "ipython",
    "version": 3
   },
   "file_extension": ".py",
   "mimetype": "text/x-python",
   "name": "python",
   "nbconvert_exporter": "python",
   "pygments_lexer": "ipython3",
   "version": "3.9.13"
  }
 },
 "nbformat": 4,
 "nbformat_minor": 5
}
